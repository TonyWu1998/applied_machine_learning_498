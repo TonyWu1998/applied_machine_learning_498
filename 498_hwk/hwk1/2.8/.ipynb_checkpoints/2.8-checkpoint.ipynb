{
 "cells": [
  {
   "cell_type": "code",
   "execution_count": 68,
   "metadata": {
    "scrolled": false
   },
   "outputs": [
    {
     "ename": "TypeError",
     "evalue": "can only concatenate str (not \"numpy.float64\") to str",
     "output_type": "error",
     "traceback": [
      "\u001b[1;31m---------------------------------------------------------------------------\u001b[0m",
      "\u001b[1;31mTypeError\u001b[0m                                 Traceback (most recent call last)",
      "\u001b[1;32m<ipython-input-68-5a9dfc29e7ed>\u001b[0m in \u001b[0;36m<module>\u001b[1;34m\u001b[0m\n\u001b[0;32m     39\u001b[0m \u001b[0mpredictingUntouch\u001b[0m \u001b[1;33m=\u001b[0m \u001b[0mtrained\u001b[0m\u001b[1;33m.\u001b[0m\u001b[0mpredict\u001b[0m\u001b[1;33m(\u001b[0m\u001b[0mtesting\u001b[0m\u001b[1;33m)\u001b[0m\u001b[1;33m\u001b[0m\u001b[1;33m\u001b[0m\u001b[0m\n\u001b[0;32m     40\u001b[0m \u001b[0mevl\u001b[0m \u001b[1;33m=\u001b[0m \u001b[0mpredicting\u001b[0m \u001b[1;33m==\u001b[0m \u001b[0mtestinglabels\u001b[0m\u001b[1;33m\u001b[0m\u001b[1;33m\u001b[0m\u001b[0m\n\u001b[1;32m---> 41\u001b[1;33m \u001b[0mprint\u001b[0m\u001b[1;33m(\u001b[0m\u001b[1;34m'stretched: '\u001b[0m \u001b[1;33m+\u001b[0m \u001b[0msum\u001b[0m\u001b[1;33m(\u001b[0m\u001b[0mevl\u001b[0m\u001b[1;33m)\u001b[0m \u001b[1;33m/\u001b[0m \u001b[0mfloat\u001b[0m\u001b[1;33m(\u001b[0m\u001b[0mlen\u001b[0m\u001b[1;33m(\u001b[0m\u001b[0mpredicting\u001b[0m\u001b[1;33m)\u001b[0m\u001b[1;33m)\u001b[0m\u001b[1;33m)\u001b[0m\u001b[1;33m\u001b[0m\u001b[1;33m\u001b[0m\u001b[0m\n\u001b[0m\u001b[0;32m     42\u001b[0m \u001b[0mprint\u001b[0m\u001b[1;33m(\u001b[0m\u001b[1;34m'untouched:'\u001b[0m \u001b[1;33m+\u001b[0m \u001b[0msum\u001b[0m\u001b[1;33m(\u001b[0m\u001b[0mevl\u001b[0m\u001b[1;33m)\u001b[0m \u001b[1;33m/\u001b[0m \u001b[0mfloat\u001b[0m\u001b[1;33m(\u001b[0m\u001b[0mlen\u001b[0m\u001b[1;33m(\u001b[0m\u001b[0mpredictingUntouch\u001b[0m\u001b[1;33m)\u001b[0m\u001b[1;33m)\u001b[0m\u001b[1;33m)\u001b[0m\u001b[1;33m\u001b[0m\u001b[1;33m\u001b[0m\u001b[0m\n",
      "\u001b[1;31mTypeError\u001b[0m: can only concatenate str (not \"numpy.float64\") to str"
     ]
    }
   ],
   "source": [
    "import numpy as np\n",
    "from sklearn.ensemble import RandomForestClassifier\n",
    "from mnist import MNIST\n",
    "\n",
    "def resize(img):\n",
    "    img = np.reshape(img,(28, 28))\n",
    "    a = np.where(img != 0)\n",
    "    left, right, top, bottom = np.min(a[0]), np.max(a[0]), np.min(a[1]), np.max(a[1])\n",
    "    image1 = img[left:right+1, top:bottom+1]\n",
    "    height, width = image1.shape\n",
    "    newimage = np.zeros((28, 28))\n",
    "    ratiow = float(width) / 28\n",
    "    ratioh = float(height) / 28\n",
    "    for i in range(28):\n",
    "        for j in range(28):\n",
    "            ph = int(math.floor(i * float(height) / 28))\n",
    "            pw = int(math.floor(j * float(width) / 28))\n",
    "            newimage[i, j] = image1[int(math.floor(i * float(height) / 28)), int(math.floor(j * float(width) / 28))]\n",
    "    return newimage.astype(int).reshape(28*28)\n",
    "\n",
    "\n",
    "mndata = MNIST('C:\\\\Users\\\\tony\\\\Desktop\\\\2.8')\n",
    "mndata.gz = True\n",
    "\n",
    "tree = 10\n",
    "depth = 4\n",
    "\n",
    "training, traininglabels = mndata.load_training()\n",
    "testing, testinglabels = mndata.load_testing()\n",
    "\n",
    "#creating our model with randomforest\n",
    "randomfc = RandomForestClassifier(n_estimators=tree, max_depth=depth)\n",
    "stretched = np.array([resize(img) for img in training])\n",
    "trained = randomfc.fit(stretched, traininglabels)\n",
    "\n",
    "\n",
    "#predicting \n",
    "predicting = trained.predict(np.array([resize(img) for img in testing]))\n",
    "predictingUntouch = trained.predict(testing)\n",
    "evl = predicting == testinglabels\n",
    "print('stretched: ' + sum(evl) / float(len(predicting)))\n",
    "print('untouched:' + sum(evl) / float(len(predictingUntouch)))"
   ]
  },
  {
   "cell_type": "code",
   "execution_count": null,
   "metadata": {},
   "outputs": [],
   "source": []
  },
  {
   "cell_type": "code",
   "execution_count": null,
   "metadata": {},
   "outputs": [],
   "source": []
  },
  {
   "cell_type": "code",
   "execution_count": null,
   "metadata": {},
   "outputs": [],
   "source": []
  }
 ],
 "metadata": {
  "kernelspec": {
   "display_name": "Python 3",
   "language": "python",
   "name": "python3"
  },
  "language_info": {
   "codemirror_mode": {
    "name": "ipython",
    "version": 3
   },
   "file_extension": ".py",
   "mimetype": "text/x-python",
   "name": "python",
   "nbconvert_exporter": "python",
   "pygments_lexer": "ipython3",
   "version": "3.7.4"
  }
 },
 "nbformat": 4,
 "nbformat_minor": 2
}
