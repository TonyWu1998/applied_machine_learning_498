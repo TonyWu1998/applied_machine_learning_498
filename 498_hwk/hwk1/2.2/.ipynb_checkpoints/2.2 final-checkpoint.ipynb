{
 "cells": [
  {
   "cell_type": "code",
   "execution_count": 43,
   "metadata": {},
   "outputs": [
    {
     "data": {
      "image/png": "[encoded data removed]",
      "text/plain": [
       "<Figure size 432x288 with 1 Axes>"
      ]
     },
     "metadata": {
      "needs_background": "light"
     },
     "output_type": "display_data"
    }
   ],
   "source": [
    "import numpy as np\n",
    "import pandas as pd\n",
    "import matplotlib.pyplot as plt\n",
    "\n",
    "TIMES = 4\n",
    "EPOCH = 50\n",
    "data = pd.read_csv('https://archive.ics.uci.edu/ml/machine-learning-databases/adult/adult.data', header=None).values\n",
    "positive = np.where(data == ' >50K')\n",
    "negative = np.where(data == ' <=50K')\n",
    "data[negative] = -1\n",
    "data[positive] = 1\n",
    "data = data[:, [0,2,4,10,11,12,-1]]# only use numerical features and the last column(label)\n",
    "#data = data.drop(columns = [1,3,5,6,7,8,9,13])\n",
    "mean = np.mean(data[:, 0:-1], axis=0)\n",
    "std = np.std(data[:, 0:-1].astype(int), axis=0)\n",
    "#std = np.std(data[:, 0:-1].astype(int), axis=0)\n",
    "split = int(0.9*data.shape[0]) \n",
    "\n",
    "# data unit normalization\n",
    "substraction = np.subtract(data[:, 0:-1], mean)\n",
    "data[:, 0:-1] = np.divide(substraction, std)\n",
    "\n",
    "lambdas = np.array([0.001, 0.01, 0.1, 1])\n",
    "train_acc = np.ones((4, 10))\n",
    "test_acc = np.ones((4, 1))\n",
    "\n",
    "# train and evaluate model for different lambdas\n",
    "for i in range(TIMES):\n",
    "\n",
    "    best_acc = 0\n",
    "    for epo in range(EPOCH):  # train the model for 50 epochs\n",
    "\n",
    "        # randomly split the data set into 90% training and 10% testing\n",
    "        np.random.shuffle(np.arange(data.shape[0]))\n",
    "        train = data[rand_idx[0:split]]\n",
    "        test = data[rand_idx[split:]]\n",
    "\n",
    "        # select a small portion of training data as held out and the rest to be epoch dataset\n",
    "        held_out = train[0:50]\n",
    "        epoch = train[50:]\n",
    "        steps = 300\n",
    "        batch_size = int(epoch.shape[0] / steps)  # batch_size = epoch_size / step\n",
    "        held_out_acc = []\n",
    "\n",
    "        # initialize a and b\n",
    "        a = np.ones((1, 6))\n",
    "        b = 1\n",
    "\n",
    "        for s in range(steps):\n",
    "\n",
    "            step_length = 1 / (0.01 * s + 30)  # variant step length\n",
    "            batch = epoch[s * batch_size: (s + 1) * batch_size]\n",
    "            boundary = np.dot(batch[:, -1].T, (np.dot(batch[:, 0:-1], a.T) + b))  # y*(a*x+b)\n",
    "            if boundary >= 1:\n",
    "                a = a - step_length * lambdas[i] * a\n",
    "            else:\n",
    "                a = a - step_length * (lambdas[i] * a - batch[-1, -1] * batch[-1, 0:-1])\n",
    "                b = b + step_length * batch[-1, -1]\n",
    "\n",
    "            if s % 30 == 0:  # examine the model accuracy on held out data for every 30 steps\n",
    "                held_out_pred = np.sign(np.dot(held_out[:, 0:-1], a.T) + b)\n",
    "                held_out_err = np.where(held_out_pred.T != held_out[:, -1])[0].shape[0]\n",
    "                held_out_acc = 1 - held_out_err / held_out.shape[0]\n",
    "                mark = int(s / 30)\n",
    "                train_acc[i, mark] = held_out_acc\n",
    "\n",
    "        pred = np.sign(np.dot(test[:, 0:-1], a.T) + b)\n",
    "        err = np.where(pred.T != test[:, -1])[0].shape[0]\n",
    "        acc = 1 - err / test.shape[0]\n",
    "        if acc > best_acc:\n",
    "            best_acc = acc\n",
    "\n",
    "    test_acc[i] = best_acc\n",
    "\n",
    "# plot accuracy plots for different lambda values\n",
    "\n",
    "x = np.linspace(0, 270, num = 10)\n",
    "y1 = train_acc\n",
    "y2 = test_acc\n",
    "\n",
    "plt.figure()\n",
    "plt.plot(x, y1[0], marker='o', label='lambda 0.001')\n",
    "plt.plot(x, y1[1], marker='o', label='lambda 0.01')\n",
    "plt.plot(x, y1[2], marker='o', label='lambda 0.1')\n",
    "plt.plot(x, y1[3], marker='o', label='lambda 1.0')\n",
    "\n",
    "plt.title('lambada accuracy')\n",
    "plt.xlabel('steps')\n",
    "plt.ylabel('accuracy') \n",
    "plt.legend(loc='upper left')\n",
    "plt.draw()\n",
    "\n",
    "\n",
    "\n",
    "\n"
   ]
  },
  {
   "cell_type": "code",
   "execution_count": null,
   "metadata": {},
   "outputs": [],
   "source": []
  },
  {
   "cell_type": "code",
   "execution_count": null,
   "metadata": {},
   "outputs": [],
   "source": []
  }
 ],
 "metadata": {
  "kernelspec": {
   "display_name": "Python 3",
   "language": "python",
   "name": "python3"
  },
  "language_info": {
   "codemirror_mode": {
    "name": "ipython",
    "version": 3
   },
   "file_extension": ".py",
   "mimetype": "text/x-python",
   "name": "python",
   "nbconvert_exporter": "python",
   "pygments_lexer": "ipython3",
   "version": "3.7.4"
  }
 },
 "nbformat": 4,
 "nbformat_minor": 2
}
