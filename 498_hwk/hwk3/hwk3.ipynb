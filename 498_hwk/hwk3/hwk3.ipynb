{
 "cells": [
  {
   "cell_type": "code",
   "execution_count": 2,
   "metadata": {},
   "outputs": [],
   "source": [
    "import numpy as np\n",
    "import pandas as pd\n",
    "from sklearn.preprocessing import StandardScaler\n",
    "from sklearn.decomposition import PCA\n",
    "\n",
    "data = pd.read_csv(\"iris.data\", names=['sepal length','sepal width','petal length','petal width','target'])\n",
    "\n",
    "features = ['sepal length', 'sepal width', 'petal length', 'petal width']\n",
    "\n",
    "# spliting features\n",
    "x = data.loc[:, features].values\n",
    "\n",
    "# spliting features\n",
    "#y = data.loc[:,['target']].values\n",
    "\n",
    "# add noise\n",
    "n1 = np.random.normal(0, 0.1, 150*4)\n",
    "n1 = n1.reshape(150,4)\n",
    "pd.DataFrame(n1)\n",
    "\n",
    "x = StandardScaler().fit_transform(x)\n",
    "pca1 = PCA(n_components = 1)\n",
    "principalC1 = pca1.fit_transform(x)\n",
    "pca1Df = pd.DataFrame(data = principalC1, columns = ['principal component 1'])\n",
    "invertedpca1 = pca1Df\n",
    "#newdata = np.add(x, data)\n",
    "# spliting features\n",
    "#x = StandardScaler().fit_transform(x)\n"
   ]
  },
  {
   "cell_type": "code",
   "execution_count": null,
   "metadata": {},
   "outputs": [],
   "source": []
  },
  {
   "cell_type": "code",
   "execution_count": null,
   "metadata": {},
   "outputs": [],
   "source": []
  }
 ],
 "metadata": {
  "kernelspec": {
   "display_name": "Python 3",
   "language": "python",
   "name": "python3"
  },
  "language_info": {
   "codemirror_mode": {
    "name": "ipython",
    "version": 3
   },
   "file_extension": ".py",
   "mimetype": "text/x-python",
   "name": "python",
   "nbconvert_exporter": "python",
   "pygments_lexer": "ipython3",
   "version": "3.7.4"
  }
 },
 "nbformat": 4,
 "nbformat_minor": 2
}
