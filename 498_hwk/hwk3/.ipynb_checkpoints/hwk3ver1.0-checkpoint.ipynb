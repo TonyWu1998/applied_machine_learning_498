{
 "cells": [
  {
   "cell_type": "code",
   "execution_count": 4,
   "metadata": {
    "scrolled": true
   },
   "outputs": [
    {
     "ename": "SyntaxError",
     "evalue": "invalid syntax (<ipython-input-4-32906b007acb>, line 51)",
     "output_type": "error",
     "traceback": [
      "\u001b[1;36m  File \u001b[1;32m\"<ipython-input-4-32906b007acb>\"\u001b[1;36m, line \u001b[1;32m51\u001b[0m\n\u001b[1;33m    mse3 = sum(square3)/(150*4)\u001b[0m\n\u001b[1;37m       ^\u001b[0m\n\u001b[1;31mSyntaxError\u001b[0m\u001b[1;31m:\u001b[0m invalid syntax\n"
     ]
    }
   ],
   "source": [
    "import pandas as pd\n",
    "import numpy as np\n",
    "from sklearn.decomposition import PCA\n",
    "from matplotlib import pyplot as plt\n",
    "\n",
    "df = pd.read_csv('iris.data',header = None)\n",
    "df = df.iloc[:, :-1]\n",
    "\n",
    "mu, sigma = 0, 0.1 # mean and standard deviation\n",
    "s = np.random.normal(mu, sigma, 150*4)\n",
    "s = s.reshape(150,4)\n",
    "pd.DataFrame(s)\n",
    "\n",
    "df_noise1 = df + s\n",
    "\n",
    "pca = PCA(n_components = 1)\n",
    "pca1 = PCA(n_components = 2)\n",
    "pca2 = PCA(n_components = 3)\n",
    "pca3 = PCA(n_components = 4)\n",
    "\n",
    "# pca = 1\n",
    "principalComponents = pca.fit_transform(df_noise1)\n",
    "principalDf = pd.DataFrame(data = principalComponents)\n",
    "\n",
    "X_ori = pca.inverse_transform(principalComponents)\n",
    "square = np.square(df_noise1 - X_ori)\n",
    "mse = sum(square)/(150*4)\n",
    "\n",
    "# PCA = 2\n",
    "principalComponents1 = pca1.fit_transform(df_noise1)\n",
    "principalDf1 = pd.DataFrame(data = principalComponents1)\n",
    "\n",
    "X_ori1 = pca1.inverse_transform(principalComponents1)\n",
    "square1 = np.square(df_noise1 - X_ori1)\n",
    "mse1 = sum(square1)/(150*4)\n",
    "\n",
    "# PCA = 3\n",
    "principalComponents2 = pca2.fit_transform(df_noise1)\n",
    "principalDf2 = pd.DataFrame(data = principalComponents2)\n",
    "\n",
    "X_ori2 = pca2.inverse_transform(principalComponents2)\n",
    "square2 = np.square(df_noise1 - X_ori2)\n",
    "mse2 = sum(square2)/(150*4)\n",
    "\n",
    "# PCA = 4\n",
    "principalComponents3 = pca3.fit_transform(df_noise1)\n",
    "principalDf3 = pd.DataFrame(data = principalComponents3)\n",
    "\n",
    "X_ori3 = pca3.inverse_transform(principalComponents3)\n",
    "square3 = (np.square(df_noise1 - X_ori3)\n",
    "mse3 = sum(square3)/(150*4)\n",
    "\n",
    "mse_total = [mse, mse1, mse2, mse3]\n",
    "\n",
    "plt.plot(mse_total,'o', label = 'data')\n",
    "plt.legend()\n",
    "plt.show()\n",
    "\n"
   ]
  },
  {
   "cell_type": "code",
   "execution_count": null,
   "metadata": {},
   "outputs": [],
   "source": [
    "mse_total"
   ]
  },
  {
   "cell_type": "code",
   "execution_count": 3,
   "metadata": {},
   "outputs": [
    {
     "ename": "NameError",
     "evalue": "name 'square2' is not defined",
     "output_type": "error",
     "traceback": [
      "\u001b[1;31m---------------------------------------------------------------------------\u001b[0m",
      "\u001b[1;31mNameError\u001b[0m                                 Traceback (most recent call last)",
      "\u001b[1;32m<ipython-input-3-7bb9cf9beae1>\u001b[0m in \u001b[0;36m<module>\u001b[1;34m\u001b[0m\n\u001b[1;32m----> 1\u001b[1;33m \u001b[0msquare2\u001b[0m\u001b[1;33m\u001b[0m\u001b[1;33m\u001b[0m\u001b[0m\n\u001b[0m",
      "\u001b[1;31mNameError\u001b[0m: name 'square2' is not defined"
     ]
    }
   ],
   "source": [
    "square2"
   ]
  },
  {
   "cell_type": "code",
   "execution_count": null,
   "metadata": {},
   "outputs": [],
   "source": [
    "square3"
   ]
  },
  {
   "cell_type": "code",
   "execution_count": null,
   "metadata": {},
   "outputs": [],
   "source": []
  },
  {
   "cell_type": "code",
   "execution_count": null,
   "metadata": {},
   "outputs": [],
   "source": []
  }
 ],
 "metadata": {
  "kernelspec": {
   "display_name": "Python 3",
   "language": "python",
   "name": "python3"
  },
  "language_info": {
   "codemirror_mode": {
    "name": "ipython",
    "version": 3
   },
   "file_extension": ".py",
   "mimetype": "text/x-python",
   "name": "python",
   "nbconvert_exporter": "python",
   "pygments_lexer": "ipython3",
   "version": "3.7.4"
  }
 },
 "nbformat": 4,
 "nbformat_minor": 2
}
