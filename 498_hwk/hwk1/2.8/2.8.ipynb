{
 "cells": [
  {
   "cell_type": "code",
   "execution_count": 79,
   "metadata": {
    "scrolled": false
   },
   "outputs": [
    {
     "name": "stdout",
     "output_type": "stream",
     "text": [
      "stretched: 0.9584\n",
      "untouched: 0.9521\n"
     ]
    }
   ],
   "source": [
    "import numpy as np\n",
    "from sklearn.ensemble import RandomForestClassifier\n",
    "from mnist import MNIST\n",
    "\n",
    "def resize(img):\n",
    "    img = np.reshape(img,(28, 28))\n",
    "    a = np.where(img != 0)\n",
    "    left, right, top, bottom = np.min(a[0]), np.max(a[0]), np.min(a[1]), np.max(a[1])\n",
    "    image1 = img[left:right+1, top:bottom+1]\n",
    "    height, width = image1.shape\n",
    "    newimage = np.zeros((28, 28))\n",
    "    for i in range(28):\n",
    "        for j in range(28):\n",
    "            ph = int(math.floor(i * float(height) / 28))\n",
    "            pw = int(math.floor(j * float(width) / 28))\n",
    "            newimage[i, j] = image1[int(math.floor(i * float(height) / 28)), int(math.floor(j * float(width) / 28))]\n",
    "    return newimage.astype(int).reshape(28*28)\n",
    "\n",
    "\n",
    "mndata = MNIST('C:\\\\Users\\\\tony\\\\Desktop\\\\2.8')\n",
    "mndata.gz = True\n",
    "\n",
    "tree = 70\n",
    "depth = 11\n",
    "\n",
    "training, traininglabels = mndata.load_training()\n",
    "testing, testinglabels = mndata.load_testing()\n",
    "\n",
    "#creating our model with randomforest\n",
    "randomfc = RandomForestClassifier(n_estimators=tree, max_depth=depth)\n",
    "randomfc1 = RandomForestClassifier(n_estimators=tree, max_depth=depth)\n",
    "trained1 = randomfc.fit(training, traininglabels)\n",
    "stretched = np.array([resize(img) for img in training])\n",
    "trained = randomfc1.fit(stretched, traininglabels)\n",
    "\n",
    "\n",
    "#predicting \n",
    "predicting = trained.predict(np.array([resize(img) for img in testing]))\n",
    "predictingUntouch = trained1.predict(testing)\n",
    "evl = predicting == testinglabels\n",
    "evl1 = predictingUntouch == testinglabels\n",
    "print('stretched: ' + str(sum(evl) / float(len(predicting))))\n",
    "print('untouched: ' + str(sum(evl1) / float(len(predictingUntouch))))"
   ]
  },
  {
   "cell_type": "code",
   "execution_count": null,
   "metadata": {},
   "outputs": [],
   "source": []
  },
  {
   "cell_type": "code",
   "execution_count": null,
   "metadata": {},
   "outputs": [],
   "source": []
  },
  {
   "cell_type": "code",
   "execution_count": null,
   "metadata": {},
   "outputs": [],
   "source": []
  }
 ],
 "metadata": {
  "kernelspec": {
   "display_name": "Python 3",
   "language": "python",
   "name": "python3"
  },
  "language_info": {
   "codemirror_mode": {
    "name": "ipython",
    "version": 3
   },
   "file_extension": ".py",
   "mimetype": "text/x-python",
   "name": "python",
   "nbconvert_exporter": "python",
   "pygments_lexer": "ipython3",
   "version": "3.7.4"
  }
 },
 "nbformat": 4,
 "nbformat_minor": 2
}
