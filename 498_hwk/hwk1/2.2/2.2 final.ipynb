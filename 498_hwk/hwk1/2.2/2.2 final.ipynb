{
 "cells": [
  {
   "cell_type": "code",
   "execution_count": 4,
   "metadata": {},
   "outputs": [],
   "source": [
    "import numpy as np\n",
    "import pandas as pd\n",
    "import matplotlib.pyplot as plt\n",
    "\n",
    "data = pd.read_csv('https://archive.ics.uci.edu/ml/machine-learning-databases/adult/adult.data', header=None).values\n",
    "data[np.where(data == ' <=50K')] = -1\n",
    "data[np.where(data == ' >50K')] = 1\n",
    "data = data[:, [0,2,4,10,11,12,-1]]# only use numerical features and the last column(label)\n",
    "mean = np.mean(data[:, 0:-1], axis=0)\n",
    "std = np.std(data[:, 0:-1].astype(int), axis=0)\n",
    "split = int(0.9*data.shape[0]) \n",
    "\n",
    "# data unit normalization\n",
    "data[:, 0:-1] = np.divide(np.subtract(data[:, 0:-1], mean), std)\n",
    "\n",
    "lambdas = np.array([0.001, 0.01, 0.1, 1])\n",
    "train_acc = np.ones((4, 10))\n",
    "test_acc = np.ones((4, 1))\n",
    "\n",
    "\n"
   ]
  },
  {
   "cell_type": "code",
   "execution_count": 5,
   "metadata": {},
   "outputs": [
    {
     "data": {
      "text/plain": [
       "29304"
      ]
     },
     "execution_count": 5,
     "metadata": {},
     "output_type": "execute_result"
    }
   ],
   "source": [
    "split"
   ]
  },
  {
   "cell_type": "code",
   "execution_count": 6,
   "metadata": {},
   "outputs": [],
   "source": [
    "# train and evaluate model for different lambdas\n",
    "for i in range(4): \n",
    "    \n",
    "    best_acc = 0\n",
    "    for epo in range(50): # train the model for 50 epochs\n",
    "\n",
    "        # randomly split the data set into 90% training and 10% testing\n",
    "        rand_idx = np.arange(data.shape[0])\n",
    "        np.random.shuffle(rand_idx)\n",
    "        train = data[rand_idx[0:split]]\n",
    "        test = data[rand_idx[split:]]\n",
    "\n",
    "        # select a small portion of training data as held out and the rest to be epoch dataset\n",
    "        held_out = train[0:50]\n",
    "        epoch = train[50:]\n",
    "        steps = 300\n",
    "        batch_size = int(epoch.shape[0]/steps) # batch_size = epoch_size / step\n",
    "        held_out_acc = []\n",
    "        \n",
    "        # initialize a and b\n",
    "        a = np.ones((1,6))\n",
    "        b = 1\n",
    "        \n",
    "        for s in range(steps):\n",
    "            \n",
    "            step_length = 1/(0.01*s+20)# variant step length\n",
    "            batch = epoch[ s*batch_size : (s+1)*batch_size ]\n",
    "            boundary = np.dot(batch[:,-1].T, (np.dot(batch[:, 0:-1], a.T) + b))# y*(a*x+b)\n",
    "            if boundary >= 1:\n",
    "                a = a - step_length * lambdas[i] * a\n",
    "            else:\n",
    "                a = a - step_length * (lambdas[i] * a - batch[-1, -1] * batch[-1, 0:-1])\n",
    "                b = b + step_length * batch[-1, -1]\n",
    "                \n",
    "            if s % 30 == 0: # examine the model accuracy on held out data for every 30 steps\n",
    "                held_out_pred = np.sign(np.dot(held_out[:, 0:-1], a.T) + b)\n",
    "                held_out_err = np.where(held_out_pred.T != held_out[:, -1])[0].shape[0]\n",
    "                held_out_acc = 1 - held_out_err / held_out.shape[0]\n",
    "                mark = int(s/30)\n",
    "                train_acc[i, mark] = held_out_acc\n",
    "                \n",
    "        pred = np.sign(np.dot(test[:, 0:-1], a.T) + b)\n",
    "        err = np.where(pred.T != test[:, -1])[0].shape[0]\n",
    "        acc = 1 - err / test.shape[0]        \n",
    "        if acc > best_acc:\n",
    "            best_acc = acc\n",
    "            \n",
    "    test_acc[i] = best_acc\n"
   ]
  },
  {
   "cell_type": "code",
   "execution_count": 11,
   "metadata": {},
   "outputs": [
    {
     "data": {
      "text/plain": [
       "array([22848,  5989,  6151, ...,  5358, 12294, 31009])"
      ]
     },
     "execution_count": 11,
     "metadata": {},
     "output_type": "execute_result"
    }
   ],
   "source": [
    "rand_idx[0:split]"
   ]
  },
  {
   "cell_type": "code",
   "execution_count": 9,
   "metadata": {},
   "outputs": [
    {
     "data": {
      "text/plain": [
       "array([[1.496922235546068, 0.36076007825384554, 1.1347387637961643, ...,\n",
       "        -0.21665952703259014, -0.27839874412538596, 1],\n",
       "       [0.8371089803598137, 1.9065918166306237, 1.1347387637961643, ...,\n",
       "        -0.21665952703259014, -0.8453271041481403, -1],\n",
       "       [1.863485155093987, 1.8839386927861834, -1.5861584148750223, ...,\n",
       "        -0.21665952703259014, -2.465122418498867, 1],\n",
       "       ...,\n",
       "       [3.109799081556912, -0.5454785674878533, -3.1409568026871293, ...,\n",
       "        -0.21665952703259014, -1.6552247613235038, -1],\n",
       "       [1.7901725711844034, 1.342973378997036, -1.5861584148750223, ...,\n",
       "        -0.21665952703259014, -0.03542944697277691, -1],\n",
       "       [1.2769844838173166, 0.05580033324972849, -1.5861584148750223,\n",
       "        ..., -0.21665952703259014, -0.4403782755604586, 1]], dtype=object)"
      ]
     },
     "execution_count": 9,
     "metadata": {},
     "output_type": "execute_result"
    }
   ],
   "source": [
    "test"
   ]
  },
  {
   "cell_type": "code",
   "execution_count": null,
   "metadata": {},
   "outputs": [],
   "source": []
  },
  {
   "cell_type": "code",
   "execution_count": null,
   "metadata": {},
   "outputs": [],
   "source": []
  }
 ],
 "metadata": {
  "kernelspec": {
   "display_name": "Python 3",
   "language": "python",
   "name": "python3"
  },
  "language_info": {
   "codemirror_mode": {
    "name": "ipython",
    "version": 3
   },
   "file_extension": ".py",
   "mimetype": "text/x-python",
   "name": "python",
   "nbconvert_exporter": "python",
   "pygments_lexer": "ipython3",
   "version": "3.7.4"
  }
 },
 "nbformat": 4,
 "nbformat_minor": 2
}
